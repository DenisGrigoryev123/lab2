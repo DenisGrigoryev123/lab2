{
  "cells": [
    {
      "cell_type": "markdown",
      "metadata": {
        "id": "9yM4DU1osK6-"
      },
      "source": [
        "# Лабораторная работа - Корреляционный анализ в Python\n"
      ]
    },
    {
      "cell_type": "markdown",
      "metadata": {
        "id": "yCDjOtbNsK6_"
      },
      "source": [
        "### Цели\n",
        "\n",
        "* Часть 1: Набор данных\n",
        "* Часть 2: Диаграммы рассеяния и корреляционные переменные\n",
        "* Часть 3: Расчёт корреляции с Python\n",
        "* Часть 4: Визуализация"
      ]
    },
    {
      "cell_type": "markdown",
      "metadata": {
        "id": "NDum_e6msK7A"
      },
      "source": [
        "### История / Cценарий\n",
        "\n",
        "Корреляция является важной статистической зависимостью, которая может указывать, связаны ли линейные значения переменных.\n",
        "\n",
        "В этой лабораторной работе вы узнаете, как использовать Python для расчета корреляции. В Части 1 Вы подготовите набор данных. В Части 2 Вы узнаете, как определить, являются ли переменные в данном наборе данных взаимозависимыми. Наконец, в Части 3, Вы будете использовать Python для вычисления корреляции между двумя наборами переменных."
      ]
    },
    {
      "cell_type": "markdown",
      "metadata": {
        "id": "2jvBd0P9sK7A"
      },
      "source": [
        "### Необходимо:\n",
        "* Библиотеки Python: pandas, numpy, matplotlib, seaborn\n",
        "* Файл данных: brainsize.txt"
      ]
    },
    {
      "cell_type": "markdown",
      "metadata": {
        "id": "YlXTvo_HsK7A"
      },
      "source": [
        "## Часть 1: Набор данных"
      ]
    },
    {
      "cell_type": "markdown",
      "metadata": {
        "id": "MGJdvJ6CsK7A"
      },
      "source": [
        "Вы будете использовать набор данных, который содержит выборку 40 студентов правшей с вводного курса по Психологии из университета Southwestern. Испытуемые прошли четыре субтеста (Vocabulary, Similarities, Block Design, и Picture Completion) для расчёта шкалы интеллекта взрослых по Векслеру. Исследователи использовали магнитно-резонансную томографию (МРТ) для определения размера мозга у субъектов. Также включены сведения о гендерных показателях и размере тела (рост и вес). Исследователи скрыли вес двух испытуемых и высоту одного из них по причинам конфиденциальности.\n",
        "Для набора данных были применены две простые модификации:\n",
        "\n",
        "1. Заменены вопросительные знаки, используемые для представления скрытых данных, описанных выше, строкой «NaN». Замена была выполнена, потому что Pandas не обрабатывает вопросительные знаки правильно.\n",
        "\n",
        "2. Заменены все символы табуляции запятыми, преобразуя набор данных в набор данных CSV.\n",
        "\n",
        "Готовый набор данных сохранён как `brainsize.txt`."
      ]
    },
    {
      "cell_type": "markdown",
      "metadata": {
        "id": "eGmxjQArsK7A"
      },
      "source": [
        "#### Шаг 1: Загрузка набора данных из файла.\n",
        "\n",
        "До того, как набор данных можно использовать, он должен быть загружен в память.\n",
        "\n",
        "В приведенном ниже коде первая строка импортирует модули `pandas` и определяет `pd` как дескриптор, который ссылается на один из модулей.\n",
        "\n",
        "Вторая строка загружает CSV-файл набора данных в переменную с именем `brainFile`.\n",
        "\n",
        "Третья строка использует метод `read_csv()` из библиотеки `pandas`, чтобы преобразовать набор данных CSV, хранящийся в `brainFile` в кадр данных. Затем кадр данных хранится в переменной `brainFrame`.\n",
        "\n",
        "Запустите ячейку ниже, чтобы выполнить описанные функции."
      ]
    },
    {
      "cell_type": "code",
      "execution_count": null,
      "metadata": {
        "id": "So5aaATTsK7A"
      },
      "outputs": [],
      "source": [
        "import pandas as pd\n",
        "brainFrame = pd.read_csv('brainsize.txt', delimiter='\\t')"
      ]
    },
    {
      "cell_type": "markdown",
      "metadata": {
        "id": "aNHyWKTJsK7B"
      },
      "source": [
        "#### Шаг 2. Проверка кадра данных.\n",
        "\n",
        "Чтобы убедиться, что кадр данных правильно загружен и создан, используйте метод `head()`. Метод `head()` отображает первые пять записей в кадре данных."
      ]
    },
    {
      "cell_type": "code",
      "execution_count": null,
      "metadata": {
        "id": "YVinfJaesK7B"
      },
      "outputs": [],
      "source": [
        "brainFrame.head()"
      ]
    },
    {
      "cell_type": "markdown",
      "metadata": {
        "id": "5ot706D0sK7B"
      },
      "source": [
        "Метод head() принимает параметр - число строк, отобразите первые 10 строк таблицы"
      ]
    },
    {
      "cell_type": "code",
      "execution_count": null,
      "metadata": {
        "id": "PNKo14d1sK7B"
      },
      "outputs": [],
      "source": [
        "brainFrame.head(10)"
      ]
    },
    {
      "cell_type": "markdown",
      "metadata": {
        "id": "gH_gsCTosK7B"
      },
      "source": [
        "Также Dataframe имеет метод tail(), который возвращает последние 5 строк кадра данных. Аналогично head() метод tail() принимает аргументом число строк, которые он вернет. Отобразите последние 8 строк таблицы."
      ]
    },
    {
      "cell_type": "code",
      "execution_count": null,
      "metadata": {
        "id": "C3ORz_aXsK7B"
      },
      "outputs": [],
      "source": [
        "brainFrame.tail(8)"
      ]
    },
    {
      "cell_type": "markdown",
      "metadata": {
        "id": "Bf-buLxmsK7C"
      },
      "source": [
        "## Часть 2: Диаграммы рассеяния и корреляционные переменные"
      ]
    },
    {
      "cell_type": "markdown",
      "metadata": {
        "id": "3xG5HMvhsK7C"
      },
      "source": [
        "#### Шаг 1: метод `describe()` в библиотеке pandas.\n",
        "Библиотека pandas включает в себя метод `describe()`, который выполняет одни и те же общие вычисления на предложенном наборе данных. Помимо базовых операций таких, как подсчёт, расчёт среднего значения, расчёт среднеквадратического отклонения, расчёт минимума, и максимума,  `describe()` также отличный способ быстро проверить достоверность значений в кадре данных.<p>\n",
        "Ниже используйте функцию describe, для вывода статистики по данным"
      ]
    },
    {
      "cell_type": "code",
      "execution_count": null,
      "metadata": {
        "id": "zF8I6E5MsK7C"
      },
      "outputs": [],
      "source": [
        "brainFrame.describe()"
      ]
    },
    {
      "cell_type": "markdown",
      "metadata": {
        "id": "MKuJlsSIsK7C"
      },
      "source": [
        "#### Шаг 2: Диаграммы рассеяния\n",
        "\n",
        "Диаграммы рассеяния важны при работе с корреляциями, поскольку они позволяют быстро визуально проверить природу связи между переменными. В этой лабораторной работе используется коэффициент корреляции Пирсона, который чувствителен только к линейной зависимости между двумя переменными. Также существуют другие более надежные методы корреляции, но они выходят за рамки этой лабораторной работы.\n",
        "\n",
        "##### a. Загрузите необходимые модули.\n",
        "Прежде чем строить графики, необходимо импортировать несколько модулей, а именно `numpy` и `matplotlib`. Запустите ячейку ниже, чтобы загрузить эти модули."
      ]
    },
    {
      "cell_type": "code",
      "execution_count": null,
      "metadata": {
        "id": "BBUacMEWsK7C"
      },
      "outputs": [],
      "source": [
        "import numpy as np\n",
        "import matplotlib.pyplot as plt"
      ]
    },
    {
      "cell_type": "markdown",
      "metadata": {
        "id": "kvMnMaAssK7C"
      },
      "source": [
        "##### b. Разделите данные.\n",
        "Чтобы гарантировать, что результаты не будут искажены из-за различий в мужских и женских телах, кадр данных разбит на два: один содержит все мужские записи, а другой - только женские экземпляры. <p>\n",
        "Создайте два новых кадра данных: menDf и womenDf, каждый из которых содержит соответствующие записи."
      ]
    },
    {
      "cell_type": "code",
      "execution_count": 12,
      "metadata": {
        "id": "81cr1wMxsK7C"
      },
      "outputs": [],
      "source": [
        "menDf = brainFrame[brainFrame['Gender'] == 'Male']\n",
        "womenDf = brainFrame[brainFrame['Gender'] == 'Female']"
      ]
    },
    {
      "cell_type": "markdown",
      "metadata": {
        "id": "sB43bhs5sK7C"
      },
      "source": [
        "##### c. Постройте графики.\n",
        "Поскольку набор данных включает в себя три различных измерения интеллекта (PIQ, FSIQ и VIQ), первая строка ниже использует метод `mean()` из библиотеки Pandas для вычисления среднего значения между тремя измерениями и сохранения результата в переменной `menMeanSmarts`. Обратите внимание, что первая строка относится к menDf, отфильтрованному кадру данных, содержащему только мужские записи.<p>\n",
        "Вторая строка использует метод `scatter()` библиотеки `matplotlib` для создания графика диаграммы рассеяния между переменной `menMeanSmarts` и атрибутом `MRI_Count`. MRI_Count в этом наборе данных можно рассматривать как меру физического размера мозга испытуемых.<p>\n",
        "Третья строка просто отображает график.<p>\n",
        "Четвертая строка используется для гарантированного отображения графика в этом блокноте."
      ]
    },
    {
      "cell_type": "code",
      "execution_count": null,
      "metadata": {
        "id": "M3eMu5I7sK7C"
      },
      "outputs": [],
      "source": [
        "# Ячейка для кода № 6\n",
        "menMeanSmarts = menDf[[\"PIQ\", \"FSIQ\", \"VIQ\"]].mean(axis=1)\n",
        "plt.scatter(menMeanSmarts, menDf[\"MRI_Count\"])\n",
        "plt.show()\n",
        "%matplotlib inline"
      ]
    },
    {
      "cell_type": "markdown",
      "metadata": {
        "id": "sQwj2ocEsK7D"
      },
      "source": [
        "Аналогичным образом создайте график диаграммы рассеяния для кадра данных, содержащему только женские записи."
      ]
    },
    {
      "cell_type": "code",
      "execution_count": null,
      "metadata": {
        "scrolled": true,
        "id": "f0Lhwlj_sK7D"
      },
      "outputs": [],
      "source": [
        "# Ячейка для кода № 7\n",
        "# Постройка графика диаграммы рассеяния для кадра данных с женскими записями\n",
        "womenMeanSmarts = womenDf[[\"PIQ\", \"FSIQ\", \"VIQ\"]].mean(axis=1)\n",
        "plt.scatter(womenMeanSmarts, womenDf[\"MRI_Count\"])\n",
        "plt.show()\n",
        "%matplotlib inline"
      ]
    },
    {
      "cell_type": "markdown",
      "metadata": {
        "id": "kEhSxqdTsK7D"
      },
      "source": [
        "## Часть 3: Вычисление корреляции с Python\n"
      ]
    },
    {
      "cell_type": "markdown",
      "metadata": {
        "id": "9p5lLKcssK7D"
      },
      "source": [
        "#### Шаг 1: Рассчитайте корреляцию для brainFrame.\n",
        "Метод `corr()` библиотеки pandas обеспечивает простой способ вычисления корреляции для кадра данных. Просто применяя метод на кадре данных, можно получить корреляцию между всеми переменными одновременно."
      ]
    },
    {
      "cell_type": "code",
      "execution_count": null,
      "metadata": {
        "id": "A0UBFSfosK7D"
      },
      "outputs": [],
      "source": [
        "brainFrame.corr(method='pearson')"
      ]
    },
    {
      "cell_type": "markdown",
      "metadata": {
        "id": "vol7uMNosK7D"
      },
      "source": [
        "Обратите внимание на диагональ слева направо в таблице корреляции, сгенерированной выше. Почему диагональ заполнена значениями 1? Это совпадение? Объясните."
      ]
    },
    {
      "cell_type": "markdown",
      "metadata": {
        "id": "jlYZcmCbsK7D"
      },
      "source": [
        "По диагонали значения корреляции совпадают, так как они расположены между одинаковыми значениями."
      ]
    },
    {
      "cell_type": "markdown",
      "metadata": {
        "id": "vIrOV0nKsK7D"
      },
      "source": [
        "Продолжая смотреть на таблицу корреляции выше, обратите внимание, что значения зеркалируются; значения под диагональю имеют зеркальный аналог над ней. Это совпадение? Объясните."
      ]
    },
    {
      "cell_type": "markdown",
      "metadata": {
        "id": "2b1NElA_sK7D"
      },
      "source": [
        "Значения под и над диагональю имеют зеркальный вид, так как мы рассматриваем корреляцию одинаковых пар переменных на симметричных позициях относительно диагонали."
      ]
    },
    {
      "cell_type": "markdown",
      "metadata": {
        "id": "pKG4mFsQsK7D"
      },
      "source": [
        "Используя тот же метод `corr()`, вычислите корреляцию переменных, содержащихся в кадре с женскими записями:"
      ]
    },
    {
      "cell_type": "code",
      "execution_count": null,
      "metadata": {
        "id": "_i4r32j2sK7D"
      },
      "outputs": [],
      "source": [
        "womenDf.corr(method='pearson')"
      ]
    },
    {
      "cell_type": "markdown",
      "metadata": {
        "id": "HcTGQFP0sK7D"
      },
      "source": [
        "И то же самое можно сделать для переменных, содержащихся в кадре с мужскими записями:"
      ]
    },
    {
      "cell_type": "code",
      "execution_count": null,
      "metadata": {
        "id": "fN-uPMIKsK7E"
      },
      "outputs": [],
      "source": [
        "menDf.corr(method='pearson')\n"
      ]
    },
    {
      "cell_type": "markdown",
      "metadata": {
        "id": "0uB-ztuPsK7E"
      },
      "source": [
        "## Часть 4: Визуализация"
      ]
    },
    {
      "cell_type": "markdown",
      "metadata": {
        "id": "9qHoqOtbsK7E"
      },
      "source": [
        "#### Шаг 1: Установите Seaborn.\n",
        "Чтобы упростить визуализацию корреляций данных, можно использовать тепловую карту. На основе цветных квадратов тепловая карта может помочь выявить корреляции с первого взгляда.\n",
        "\n",
        "Модуль Python с именем `seaborn` очень упрощает построение тепловых карт.\n",
        "\n",
        "Сначала запустите ячейку ниже, чтобы загрузить и установить модуль `seaborn`. (закомментируйте, если библиотека установлена)"
      ]
    },
    {
      "cell_type": "code",
      "execution_count": null,
      "metadata": {
        "id": "25yhfHfmsK7E"
      },
      "outputs": [],
      "source": [
        "# Ячейка для кода № 11\n",
        "!pip install seaborn"
      ]
    },
    {
      "cell_type": "markdown",
      "metadata": {
        "id": "Rqjye9TbsK7F"
      },
      "source": [
        "#### Шаг 2: Нарисуйте корреляционную тепловую карту.\n",
        "\n",
        "Теперь, когда кадры данных готовы, можно отобразить тепловые карты. Далее приведен анализ кода из ячейки ниже:\n",
        "\n",
        "Строка 1: Создает таблицу корреляции, основанную на фрейме данных `womenNoGenderDf` и хранит его в `wcorr`.<br>\n",
        "Строка 2: Использует метод `heatmap()` библиотеки `seaborn` для генерации и построения тепловой карты. Обратите внимание, что `heatmap()` принимает `wcorr`, как параметр.<br>\n",
        "Строка 3: используется для экспорта и сохранения созданной тепловой карты в виде PNG-изображения. Хотя строка 3 не активна (перед ней стоит символ `#`, заставляя интерпретатор игнорировать ее), она сохранена в информационных целях."
      ]
    },
    {
      "cell_type": "code",
      "execution_count": null,
      "metadata": {
        "id": "a3jq6PelsK7F"
      },
      "outputs": [],
      "source": [
        "# Ячейка для кода № 12\n",
        "import seaborn as sns\n",
        "\n",
        "wcorr = womenDf.corr()\n",
        "sns.heatmap(wcorr)\n",
        "#plt.savefig('attribute_correlations.png', tight_layout=True)"
      ]
    },
    {
      "cell_type": "markdown",
      "metadata": {
        "id": "8PhS5MwMsK7F"
      },
      "source": [
        "Аналогичным образом создайте и отобразите тепловую карту для кадра данных с мужчинами."
      ]
    },
    {
      "cell_type": "code",
      "execution_count": null,
      "metadata": {
        "id": "w31j9Lt-sK7F"
      },
      "outputs": [],
      "source": [
        "# Ячейка для кода № 14\n",
        "mcorr = menDf.corr()\n",
        "sns.heatmap(mcorr)"
      ]
    },
    {
      "cell_type": "markdown",
      "metadata": {
        "id": "nAPpvFAbsK7F"
      },
      "source": [
        "У многих пар переменных корреляция близка к нулю. Что это значит?"
      ]
    },
    {
      "cell_type": "markdown",
      "metadata": {
        "id": "MVjnJWZasK7F"
      },
      "source": [
        "Это значит, что такие переменные не зависят друг от друга."
      ]
    },
    {
      "cell_type": "markdown",
      "metadata": {
        "id": "KajqYUWmsK7F"
      },
      "source": [
        "Зачем делать разделение по полу?"
      ]
    },
    {
      "cell_type": "markdown",
      "metadata": {
        "id": "Rm8tIyVIsK7F"
      },
      "source": [
        "Для того, чтобы гарантировать, что результаты не будут искажены из-за различий в мужских и женских телах. Эта мера необходима для получения более точных результатов."
      ]
    },
    {
      "cell_type": "markdown",
      "metadata": {
        "id": "fs4v87GusK7F"
      },
      "source": [
        "Какие переменные имеют более сильную корреляцию с размером мозга (MRI_Count)? Это ожидалось? Объясните."
      ]
    },
    {
      "cell_type": "markdown",
      "metadata": {
        "id": "PjDrCjbYsK7G"
      },
      "source": [
        "weight и height. Да, ожидалось, так как размер тела прямо пропорционален размеру мозга."
      ]
    }
  ],
  "metadata": {
    "anaconda-cloud": {},
    "kernelspec": {
      "display_name": "Python 3 (ipykernel)",
      "language": "python",
      "name": "python3"
    },
    "language_info": {
      "codemirror_mode": {
        "name": "ipython",
        "version": 3
      },
      "file_extension": ".py",
      "mimetype": "text/x-python",
      "name": "python",
      "nbconvert_exporter": "python",
      "pygments_lexer": "ipython3",
      "version": "3.11.5"
    },
    "colab": {
      "provenance": []
    }
  },
  "nbformat": 4,
  "nbformat_minor": 0
}